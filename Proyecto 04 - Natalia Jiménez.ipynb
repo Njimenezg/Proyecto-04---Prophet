{
 "cells": [
  {
   "cell_type": "markdown",
   "metadata": {
    "ExecuteTime": {
     "end_time": "2021-10-01T15:44:02.596208Z",
     "start_time": "2021-10-01T15:44:02.578258Z"
    }
   },
   "source": [
    "# Proyecto 04: Implementación del Modelo Prophet\n",
    "\n",
    "Para la realización de este proyecto, se emplearan técnicas utilizadas en el Proyecto 03 con el fin de obtener los mismos datos utilizados y poder comparar la predicción del año 2020, obtenida con el modelo SARIMAX, con la predicción que se realizará con el nuevo modelo propuesto, **Facebook Prophet**.\n",
    "\n",
    "Para obtener los resultados:\n",
    "\n",
    "1. Se empezará por importar los datasets utilizados en el proyecto anterior, transformarlos a la frecuencia deseada, limpiar sus valores atípicos y replicar el modelo anteriormente implementado. Es decir, se emplearán las mismas técnicas de *Análisis Exploratorio de Datos*, con la diferencia de que nos enfocaremos directamente en el resultado y no en la exploración, dado que la misma ya fue realizada.\n",
    "\n",
    "2. Emplear la transformación necesaria en los datos para la implementación del modelo de series de tiempo *Facebook Prophet*. El mismo solo acepta dos variables, **DS** la cual representa las fechas observados e **Y** la cual representa los valores observados. Una vez realizados los cambios, se entrenará el modelo y generarán predicciones para el año 2019 y 2020 y así poder contrastar con el modelo del Proyecto 03. \n",
    "\n",
    "3. Se contrastarán los resultados y se presentará una conclusión final justificando el modelo que presentó mejor rendimiento.\n",
    "\n",
    "\n",
    "**Nota**: Se espera obtener un mejor resultado en la métrica RMSE en relación a la obtenida por el modelo SARIMAX. Ambos modelos fueron especialmente diseñados para ser utilizados en series de tiempo, con la diferencia de que *Facebook Prophet* es un modelo *\"nuevo\"*, el cual está diseñado para entregar simpleza en su ejecución y lectura de datos. Por este motivo, se infiere que *Prophet* podría llegar a mejorar el rendimiento de *SARIMAX* en cuanto al modelado y las predicciones."
   ]
  },
  {
   "cell_type": "markdown",
   "metadata": {},
   "source": [
    "# Importando librerías:"
   ]
  },
  {
   "cell_type": "code",
   "execution_count": null,
   "metadata": {
    "ExecuteTime": {
     "end_time": "2021-10-05T19:04:57.727873Z",
     "start_time": "2021-10-05T19:04:57.711884Z"
    }
   },
   "outputs": [],
   "source": [
    "import pandas as pd\n",
    "import numpy as np\n",
    "import matplotlib.pyplot as plt\n",
    "import datetime as dt\n",
    "import sklearn.metrics as metrics\n",
    "import statsmodels.tsa as tsa\n",
    "import statsmodels.api as sm\n",
    "\n",
    "from statsmodels.graphics.tsaplots import plot_acf\n",
    "from statsmodels.tsa import stattools\n",
    "from fbprophet import Prophet\n",
    "from sklearn.model_selection import TimeSeriesSplit\n",
    "from fbprophet.diagnostics import cross_validation, performance_metrics\n",
    "from joblib import Parallel, delayed\n",
    "\n",
    "import warnings, itertools\n",
    "warnings.filterwarnings(\"ignore\")"
   ]
  },
  {
   "cell_type": "markdown",
   "metadata": {},
   "source": [
    "# Importando datos:"
   ]
  },
  {
   "cell_type": "code",
   "execution_count": null,
   "metadata": {
    "ExecuteTime": {
     "end_time": "2021-10-05T19:05:01.237663Z",
     "start_time": "2021-10-05T19:04:57.729835Z"
    }
   },
   "outputs": [],
   "source": [
    "data_2019 = pd.read_csv(\"flujo-vehicular-2019.csv\", sep= \",\")\n",
    "data_2018 = pd.read_csv(\"flujo-vehicular-2018.csv\", sep= \",\")\n",
    "data_2017 = pd.read_csv(\"flujo-vehicular-2017.csv\", sep= \",\")"
   ]
  },
  {
   "cell_type": "markdown",
   "metadata": {},
   "source": [
    "# Pre-procesando datos:"
   ]
  },
  {
   "cell_type": "code",
   "execution_count": null,
   "metadata": {
    "ExecuteTime": {
     "end_time": "2021-10-05T19:05:02.437708Z",
     "start_time": "2021-10-05T19:05:01.240656Z"
    },
    "scrolled": false
   },
   "outputs": [],
   "source": [
    "dataset = pd.concat([data_2019, data_2018, data_2017])\n",
    "\n",
    "mask = np.logical_and(dataset.estacion == \"Illia\", dataset.forma_pago == \"EFECTIVO\")\n",
    "\n",
    "dataset = dataset[mask]\n",
    "\n",
    "dataset.drop(columns = [\"periodo\",\"hora_inicio\",\"estacion\",\"forma_pago\",\"sentido\",\"tipo_vehiculo\"], inplace =True)"
   ]
  },
  {
   "cell_type": "code",
   "execution_count": null,
   "metadata": {
    "ExecuteTime": {
     "end_time": "2021-10-05T19:05:02.515662Z",
     "start_time": "2021-10-05T19:05:02.442695Z"
    }
   },
   "outputs": [],
   "source": [
    "dataset[\"fecha2\"] = pd.to_datetime(dataset.fecha) + pd.to_timedelta(dataset.hora_fin, unit = \"h\")\n",
    "\n",
    "dataset.drop(columns= [\"fecha\", \"hora_fin\",\"dia\"], inplace = True)\n",
    "\n",
    "dataset"
   ]
  },
  {
   "cell_type": "code",
   "execution_count": null,
   "metadata": {
    "ExecuteTime": {
     "end_time": "2021-10-05T19:05:02.530612Z",
     "start_time": "2021-10-05T19:05:02.517611Z"
    }
   },
   "outputs": [],
   "source": [
    "dataset.rename(columns = {\"fecha2\":\"fecha\"}, inplace = True)\n",
    "\n",
    "dataset"
   ]
  },
  {
   "cell_type": "code",
   "execution_count": null,
   "metadata": {
    "ExecuteTime": {
     "end_time": "2021-10-05T19:05:02.576501Z",
     "start_time": "2021-10-05T19:05:02.532571Z"
    }
   },
   "outputs": [],
   "source": [
    "dataset.sort_values(\"fecha\", inplace = True)\n",
    "dataset.reset_index(drop= True, inplace=True)\n",
    "dataset"
   ]
  },
  {
   "cell_type": "code",
   "execution_count": null,
   "metadata": {
    "ExecuteTime": {
     "end_time": "2021-10-05T19:05:02.607371Z",
     "start_time": "2021-10-05T19:05:02.578448Z"
    }
   },
   "outputs": [],
   "source": [
    "dataset.describe()"
   ]
  },
  {
   "cell_type": "code",
   "execution_count": null,
   "metadata": {
    "ExecuteTime": {
     "end_time": "2021-10-05T19:05:03.265639Z",
     "start_time": "2021-10-05T19:05:02.610364Z"
    }
   },
   "outputs": [],
   "source": [
    "plt.figure(figsize = (15,6))\n",
    "plt.plot(dataset.fecha, dataset.cantidad_pasos)\n",
    "plt.title(\"Serie de tiempo observada - 2017/2019 (frecuencia horaria)\")\n",
    "plt.show()"
   ]
  },
  {
   "cell_type": "markdown",
   "metadata": {},
   "source": [
    "## Resampleando a Frecuencia Diaria:"
   ]
  },
  {
   "cell_type": "code",
   "execution_count": null,
   "metadata": {
    "ExecuteTime": {
     "end_time": "2021-10-05T19:05:03.297558Z",
     "start_time": "2021-10-05T19:05:03.268603Z"
    },
    "scrolled": false
   },
   "outputs": [],
   "source": [
    "diario = dataset.resample(\"D\", on=\"fecha\").sum()\n",
    "diario"
   ]
  },
  {
   "cell_type": "code",
   "execution_count": null,
   "metadata": {
    "ExecuteTime": {
     "end_time": "2021-10-05T19:05:03.532093Z",
     "start_time": "2021-10-05T19:05:03.300546Z"
    }
   },
   "outputs": [],
   "source": [
    "plt.figure(figsize=(15,6))\n",
    "plt.plot(diario.index, diario.cantidad_pasos)\n",
    "plt.title(\"Serie de tiempo observada - 2017/2019 (frecuencia diaria)\")\n",
    "plt.plot()"
   ]
  },
  {
   "cell_type": "code",
   "execution_count": null,
   "metadata": {
    "ExecuteTime": {
     "end_time": "2021-10-05T19:05:03.547856Z",
     "start_time": "2021-10-05T19:05:03.533920Z"
    }
   },
   "outputs": [],
   "source": [
    "diario.head()"
   ]
  },
  {
   "cell_type": "code",
   "execution_count": null,
   "metadata": {
    "ExecuteTime": {
     "end_time": "2021-10-05T19:05:03.562817Z",
     "start_time": "2021-10-05T19:05:03.549851Z"
    }
   },
   "outputs": [],
   "source": [
    "diario.describe()"
   ]
  },
  {
   "cell_type": "markdown",
   "metadata": {},
   "source": [
    "## Interpolando Valores Atípicos:"
   ]
  },
  {
   "cell_type": "code",
   "execution_count": null,
   "metadata": {
    "ExecuteTime": {
     "end_time": "2021-10-05T19:05:03.593724Z",
     "start_time": "2021-10-05T19:05:03.564817Z"
    }
   },
   "outputs": [],
   "source": [
    "diario[(diario.cantidad_pasos == 0) | (diario.cantidad_pasos <=10000)] = np.NaN\n",
    "\n",
    "print(diario.isna().sum())\n",
    "\n",
    "diario = diario.interpolate(method = \"nearest\", k=4)\n",
    "\n",
    "print(diario.isna().sum())\n",
    "\n",
    "diario"
   ]
  },
  {
   "cell_type": "code",
   "execution_count": null,
   "metadata": {
    "ExecuteTime": {
     "end_time": "2021-10-05T19:05:03.843649Z",
     "start_time": "2021-10-05T19:05:03.595721Z"
    },
    "scrolled": true
   },
   "outputs": [],
   "source": [
    "plt.figure(figsize=(16,5))\n",
    "\n",
    "plt.plot(diario.index, diario.cantidad_pasos, color =\"b\", label=\"Serie Observada (sin V.A)\")\n",
    "plt.title(\"Serie de tiempo observada 2017/2019\")\n",
    "plt.legend()\n",
    "plt.ylim(0,80000)\n",
    "plt.show()"
   ]
  },
  {
   "cell_type": "markdown",
   "metadata": {},
   "source": [
    "## Resampleando a Frecuencia Semanal (para predicción del modelo):"
   ]
  },
  {
   "cell_type": "code",
   "execution_count": null,
   "metadata": {
    "ExecuteTime": {
     "end_time": "2021-10-05T19:05:03.858796Z",
     "start_time": "2021-10-05T19:05:03.844650Z"
    }
   },
   "outputs": [],
   "source": [
    "semanal = diario.resample(\"W\").sum()"
   ]
  },
  {
   "cell_type": "code",
   "execution_count": null,
   "metadata": {
    "ExecuteTime": {
     "end_time": "2021-10-05T19:05:03.874538Z",
     "start_time": "2021-10-05T19:05:03.860796Z"
    }
   },
   "outputs": [],
   "source": [
    "semanal = diario.resample(\"W\").mean()"
   ]
  },
  {
   "cell_type": "code",
   "execution_count": null,
   "metadata": {
    "ExecuteTime": {
     "end_time": "2021-10-05T19:05:03.889535Z",
     "start_time": "2021-10-05T19:05:03.875511Z"
    },
    "scrolled": true
   },
   "outputs": [],
   "source": [
    "semanal.index.to_series().diff().value_counts()"
   ]
  },
  {
   "cell_type": "code",
   "execution_count": null,
   "metadata": {
    "ExecuteTime": {
     "end_time": "2021-10-05T19:05:03.905403Z",
     "start_time": "2021-10-05T19:05:03.890389Z"
    }
   },
   "outputs": [],
   "source": [
    "semanal"
   ]
  },
  {
   "cell_type": "markdown",
   "metadata": {},
   "source": [
    "## Instanciando Último Trimestre 2019 (para comparar con predicción de Prophet):"
   ]
  },
  {
   "cell_type": "code",
   "execution_count": null,
   "metadata": {
    "ExecuteTime": {
     "end_time": "2021-10-05T19:05:03.921309Z",
     "start_time": "2021-10-05T19:05:03.907346Z"
    }
   },
   "outputs": [],
   "source": [
    "start = \"2019-10-06\"\n",
    "end = \"2019-12-31\"\n",
    "\n",
    "\n",
    "ult_tri_2019 = semanal[(semanal.index >= start) & (semanal.index <=end)]\n",
    "\n",
    "ult_tri_2019"
   ]
  },
  {
   "cell_type": "code",
   "execution_count": null,
   "metadata": {
    "ExecuteTime": {
     "end_time": "2021-10-05T19:05:04.153895Z",
     "start_time": "2021-10-05T19:05:03.923303Z"
    }
   },
   "outputs": [],
   "source": [
    "plt.figure(figsize=(16,5))\n",
    "\n",
    "plt.plot(ult_tri_2019.index, ult_tri_2019.cantidad_pasos, label = \"4to trimestre 2019\")\n",
    "plt.show()"
   ]
  },
  {
   "cell_type": "markdown",
   "metadata": {},
   "source": [
    "# Machine Learning"
   ]
  },
  {
   "cell_type": "markdown",
   "metadata": {},
   "source": [
    "- ## Replicando modelo SARIMAX:"
   ]
  },
  {
   "cell_type": "code",
   "execution_count": null,
   "metadata": {
    "ExecuteTime": {
     "end_time": "2021-10-05T19:06:01.826662Z",
     "start_time": "2021-10-05T19:05:04.154937Z"
    }
   },
   "outputs": [],
   "source": [
    "y= semanal.cantidad_pasos\n",
    "\n",
    "\n",
    "model= sm.tsa.statespace.SARIMAX(y,\n",
    "                                order=(10, 1, 8),\n",
    "                                seasonal_order=(3, 1, 10, 12),\n",
    "                                enforce_stationarity=False,\n",
    "                                enforce_invertibility=False)\n",
    "\n",
    "results= model.fit()\n",
    "\n",
    "print(results.summary().tables[1])"
   ]
  },
  {
   "cell_type": "markdown",
   "metadata": {},
   "source": [
    "- ### Prediciendo:\n",
    "\n",
    "\n",
    "Se obtienen los resultados a través de *get_prediction* y se obtienen los intervalos de confianza a través de *conf_int*."
   ]
  },
  {
   "cell_type": "code",
   "execution_count": null,
   "metadata": {
    "ExecuteTime": {
     "end_time": "2021-10-05T19:06:01.873538Z",
     "start_time": "2021-10-05T19:06:01.827660Z"
    }
   },
   "outputs": [],
   "source": [
    "prediction = results.get_prediction(start= dt.datetime(2019,10,6), dynamic=False)\n",
    "pred_conf = prediction.conf_int()"
   ]
  },
  {
   "cell_type": "markdown",
   "metadata": {},
   "source": [
    "- ### Graficando:"
   ]
  },
  {
   "cell_type": "code",
   "execution_count": null,
   "metadata": {
    "ExecuteTime": {
     "end_time": "2021-10-05T19:06:02.264528Z",
     "start_time": "2021-10-05T19:06:01.876529Z"
    }
   },
   "outputs": [],
   "source": [
    "plt.figure(figsize=(20,10))\n",
    "\n",
    "ax = y['2017':].plot(label='Serie Observada')\n",
    "prediction.predicted_mean.plot(ax=ax, label='SARIMAX One-Step-Prediction', alpha=0.7)\n",
    "\n",
    "ax.fill_between(pred_conf.index,\n",
    "                pred_conf.iloc[:, 0],\n",
    "                pred_conf.iloc[:, 1], color='k', alpha=0.2)\n",
    "\n",
    "plt.title(\"Desempeño SARIMAX One-Step Trimestre-2019\", color= 'k', fontsize=25)\n",
    "ax.set_xlabel(\"\\n Fecha\", fontsize=18, color='indigo')\n",
    "ax.set_ylabel(\"\\n  Cantidad Autos\", loc= 'top', rotation=0, fontsize=18,color='indigo')\n",
    "plt.xlim(dt.datetime(2019,1,1), dt.datetime(2019,12,29))\n",
    "plt.xticks(fontsize= 15)\n",
    "plt.yticks(fontsize= 15)\n",
    "\n",
    "plt.legend(fontsize=15)\n",
    "plt.show()"
   ]
  },
  {
   "cell_type": "markdown",
   "metadata": {},
   "source": [
    "- ### Evaluando:"
   ]
  },
  {
   "cell_type": "code",
   "execution_count": null,
   "metadata": {
    "ExecuteTime": {
     "end_time": "2021-10-05T19:06:02.280450Z",
     "start_time": "2021-10-05T19:06:02.266486Z"
    }
   },
   "outputs": [],
   "source": [
    "y_predicho= prediction.predicted_mean\n",
    "y_real = y['2019-10-06':]\n",
    "\n",
    "\n",
    "rmse_sarimax = np.sqrt(metrics.mean_squared_error(y_predicho, y_real))\n",
    "print(\"RMSE SARIMAX: \", rmse_sarimax)"
   ]
  },
  {
   "cell_type": "markdown",
   "metadata": {},
   "source": [
    "- ### Predicción SARIMAX 2020:"
   ]
  },
  {
   "cell_type": "code",
   "execution_count": null,
   "metadata": {
    "ExecuteTime": {
     "end_time": "2021-10-05T19:06:02.610567Z",
     "start_time": "2021-10-05T19:06:02.281472Z"
    }
   },
   "outputs": [],
   "source": [
    "plt.figure(figsize=(20,10))\n",
    "\n",
    "pred_2020 = results.get_forecast(steps= dt.datetime(2020,12,31))\n",
    "pred_2020_conf = pred_2020.conf_int()\n",
    "\n",
    "ax = y.plot(label='Serie Observada')\n",
    "pred_2020.predicted_mean.plot(ax=ax, label='Prediccion 2020')\n",
    "\n",
    "ax.fill_between(pred_2020_conf.index,\n",
    "                pred_2020_conf.iloc[:, 0],\n",
    "                pred_2020_conf.iloc[:, 1], color='k')\n",
    "\n",
    "plt.title(\"Predicción SARIMAX Año-2020\", color= 'k', fontsize=25)\n",
    "ax.set_xlabel('Fecha', fontsize=18, color='indigo')\n",
    "ax.set_ylabel('Cantidad Autos', loc= 'top', rotation=0, fontsize=18,color='indigo')\n",
    "plt.xlim(dt.datetime(2019,10,6), dt.datetime(2020,12,31))\n",
    "plt.xticks(fontsize= 15)\n",
    "plt.yticks(fontsize= 15)\n",
    "\n",
    "\n",
    "plt.legend(fontsize= 15)\n",
    "plt.show()"
   ]
  },
  {
   "cell_type": "code",
   "execution_count": null,
   "metadata": {
    "ExecuteTime": {
     "end_time": "2021-10-05T19:29:15.924849Z",
     "start_time": "2021-10-05T19:29:15.911851Z"
    }
   },
   "outputs": [],
   "source": [
    "prediccion_2020 = pred_2020.predicted_mean"
   ]
  },
  {
   "cell_type": "markdown",
   "metadata": {},
   "source": [
    "## Creando Modelo FacebookProphet:"
   ]
  },
  {
   "cell_type": "code",
   "execution_count": null,
   "metadata": {
    "ExecuteTime": {
     "end_time": "2021-10-05T19:06:02.626576Z",
     "start_time": "2021-10-05T19:06:02.612561Z"
    }
   },
   "outputs": [],
   "source": [
    "df1 =  semanal.copy()\n",
    "\n",
    "df1"
   ]
  },
  {
   "cell_type": "markdown",
   "metadata": {},
   "source": [
    "Para cumplir con los requisitos de *Prophet*, se debe cambiar el nombre de las columnas.\n",
    "\n",
    "Las fechas observadas ahora deben llamarse **DS**, y los valores observados deben llamarse **Y**."
   ]
  },
  {
   "cell_type": "code",
   "execution_count": null,
   "metadata": {
    "ExecuteTime": {
     "end_time": "2021-10-05T19:06:02.642533Z",
     "start_time": "2021-10-05T19:06:02.627548Z"
    }
   },
   "outputs": [],
   "source": [
    "df1 =df1.reset_index()\n",
    "\n",
    "df1 = df1.rename(columns={'fecha': 'ds',\n",
    "                                   'cantidad_pasos': 'y'})\n",
    "df1"
   ]
  },
  {
   "cell_type": "markdown",
   "metadata": {},
   "source": [
    "- ### Entrenando el Modelo:"
   ]
  },
  {
   "cell_type": "code",
   "execution_count": null,
   "metadata": {
    "ExecuteTime": {
     "end_time": "2021-10-05T19:06:02.814415Z",
     "start_time": "2021-10-05T19:06:02.643479Z"
    }
   },
   "outputs": [],
   "source": [
    "prophet_model = Prophet(interval_width = 0.95)\n",
    "\n",
    "prophet_model.fit(df1)"
   ]
  },
  {
   "cell_type": "markdown",
   "metadata": {},
   "source": [
    "Aquí se crea el Dataset vacío para posteriormente, pedirle al modelo *Prophet* las predicciones sobre las fechas seleccionadas."
   ]
  },
  {
   "cell_type": "code",
   "execution_count": null,
   "metadata": {
    "ExecuteTime": {
     "end_time": "2021-10-05T19:06:02.830202Z",
     "start_time": "2021-10-05T19:06:02.816239Z"
    }
   },
   "outputs": [],
   "source": [
    "prophet_dates = prophet_model.make_future_dataframe(periods= 52, freq=\"W\")\n",
    "\n",
    "prophet_dates"
   ]
  },
  {
   "cell_type": "markdown",
   "metadata": {},
   "source": [
    "Se predice sobre el dataset vacío y se observan los resultados obtenidos en las variables de interés."
   ]
  },
  {
   "cell_type": "markdown",
   "metadata": {
    "ExecuteTime": {
     "end_time": "2021-10-05T18:57:40.980873Z",
     "start_time": "2021-10-05T18:57:40.968872Z"
    }
   },
   "source": [
    "- ### Obteniendo predicciones:"
   ]
  },
  {
   "cell_type": "code",
   "execution_count": null,
   "metadata": {
    "ExecuteTime": {
     "end_time": "2021-10-05T19:06:04.156654Z",
     "start_time": "2021-10-05T19:06:02.832225Z"
    }
   },
   "outputs": [],
   "source": [
    "prophet_prediction=  prophet_model.predict(prophet_dates)\n",
    "\n",
    "prophet_prediction[[\"ds\", \"yhat\", \"yhat_lower\", \"yhat_upper\"]].head()"
   ]
  },
  {
   "cell_type": "code",
   "execution_count": null,
   "metadata": {
    "ExecuteTime": {
     "end_time": "2021-10-05T19:06:04.171633Z",
     "start_time": "2021-10-05T19:06:04.158658Z"
    }
   },
   "outputs": [],
   "source": [
    "prophet_pred_2019 = prophet_prediction[(prophet_prediction.ds >= \"2019-10-06\") & (prophet_prediction.ds <= \"2019-12-29\")]\n",
    "\n",
    "prophet_pred_2019.drop(columns=[\"trend\", \"yhat_lower\", \"yhat_upper\",\n",
    "                       \"trend_lower\", \"trend_upper\", \"additive_terms\",\n",
    "                       \"additive_terms_lower\", \"additive_terms_upper\",\n",
    "                       \"yearly\", \"yearly_lower\", \"yearly_upper\", \n",
    "                       \"multiplicative_terms\", \"multiplicative_terms_lower\", \n",
    "                       \"multiplicative_terms_upper\"], inplace= True)\n",
    "\n",
    "\n",
    "prophet_pred_2019.rename(columns={'ds':'fecha', \"yhat\":'cantidad_pasos'}, inplace=True)\n",
    "\n",
    "\n",
    "prophet_pred_2019 = prophet_pred_2019.set_index('fecha')\n",
    "\n",
    "prophet_pred_2019"
   ]
  },
  {
   "cell_type": "markdown",
   "metadata": {},
   "source": [
    "Como se puede observar, *Prophet* devuelve una predicción bastante consevadora en cuanto los resultados. Se podría intuir que utiliza un promedio ponderado del valor observado para prededcir el siguiente, con márgenes de variación muy bajos."
   ]
  },
  {
   "cell_type": "markdown",
   "metadata": {},
   "source": [
    "- ### Graficando resultados y contrastando:"
   ]
  },
  {
   "cell_type": "code",
   "execution_count": null,
   "metadata": {
    "ExecuteTime": {
     "end_time": "2021-10-05T19:06:04.422943Z",
     "start_time": "2021-10-05T19:06:04.173610Z"
    }
   },
   "outputs": [],
   "source": [
    "plt.figure(figsize=(16,5))\n",
    "\n",
    "prophet_model.plot(prophet_prediction, uncertainty=True)\n",
    "\n",
    "plt.title(\"Predicción total de Prophet para la serie observada 2017/2019\")\n",
    "plt.show()"
   ]
  },
  {
   "cell_type": "markdown",
   "metadata": {},
   "source": [
    "El gráfico proporciona la siguiente información:\n",
    "\n",
    "- En primera instancia, los puntos negros represtan la serie de tiempo observada, tal como resultó luego de haber aplicado el Análisis Exploratorio de Datos correspondiente.\n",
    "\n",
    "- Luego, se observa una línea azul que, en su mayoría, sigue el recorrido de los puntos negros. Esta es la predicción que Prophet creó en el modelo que entrenamos para la Serie de Tiempo.\n",
    "\n",
    "- Por último, se observa una zona sombreada la cual representa los intervalos de confianza de nuestro modelo de *Prophet.*\n"
   ]
  },
  {
   "cell_type": "markdown",
   "metadata": {},
   "source": [
    "Llegada la estancia final del Proyecto, solo resta la comparación de los modelos aplicados *(SARIMAX y Prophet)* y la evaluación de Prophet a través de la metrica elegida, **RMSE**. \n",
    "\n",
    "Una vez realizado este ultimo paso, se realizará un *HyperTunning* de los parámetros de Prophet, para observar si luego del mismo este el modelo un desempeño mejor que el alcanzado en su versión estándar."
   ]
  },
  {
   "cell_type": "markdown",
   "metadata": {},
   "source": [
    "Para poder llevar a cabo la comparación, primero debo instanciar los resultados obtenidos por SARIMAX en una nueva variable, como se hizo con la predicción de Prophet para el año 2019, de esta manera será mucho más sencillo comparar las mismas al momento de graficarlas."
   ]
  },
  {
   "cell_type": "code",
   "execution_count": null,
   "metadata": {
    "ExecuteTime": {
     "end_time": "2021-10-05T19:06:04.438900Z",
     "start_time": "2021-10-05T19:06:04.424939Z"
    }
   },
   "outputs": [],
   "source": [
    "prediction = results.get_prediction(start= dt.datetime(2019,10,6), dynamic=False)\n",
    "\n",
    "sarimax_pred_2019= prediction.predicted_mean\n",
    "\n",
    "sarimax_pred_2019 = pd.DataFrame(sarimax_pred_2019)\n",
    "\n",
    "sarimax_pred_2019.rename(columns={\"predicted_mean\":'cantidad_pasos'}, inplace=True)\n",
    "\n",
    "sarimax_pred_2019.drop(index= dt.datetime(2020,1,5), inplace=True)\n",
    "\n",
    "sarimax_pred_2019 = sarimax_pred_2019.set_index(sarimax_pred_2019.index)\n",
    "\n",
    "sarimax_pred_2019"
   ]
  },
  {
   "cell_type": "code",
   "execution_count": null,
   "metadata": {
    "ExecuteTime": {
     "end_time": "2021-10-05T19:07:23.654272Z",
     "start_time": "2021-10-05T19:07:23.451863Z"
    }
   },
   "outputs": [],
   "source": [
    "plt.figure(figsize=(16,9))\n",
    "\n",
    "\n",
    "plt.plot(prophet_pred_2019.index, prophet_pred_2019.cantidad_pasos, label = \"Prediccion Prophet 4to trimestre \")\n",
    "plt.plot(sarimax_pred_2019.index, sarimax_pred_2019.cantidad_pasos, label = \"Prediccion SARIMAX 4to trimestre\")\n",
    "plt.plot(ult_tri_2019.index, ult_tri_2019.cantidad_pasos, label = \"Series observada 4to trimestre 2019\")\n",
    "plt.title(\"Predicciones de: Prophet y SARIMAX vs Serie Observada 2017/2019\")\n",
    "plt.show()\n",
    "\n",
    "y_forecast_prophet=  prophet_pred_2019.cantidad_pasos\n",
    "y= ult_tri_2019.cantidad_pasos\n",
    "\n",
    "rmse_prophet = np.sqrt(metrics.mean_squared_error(y_forecast_prophet, y))\n",
    "print(\"RMSE- Prophet: \", rmse_prophet)\n",
    "print(\"RMSE- SARIMAX: \", rmse_sarimax)"
   ]
  },
  {
   "cell_type": "markdown",
   "metadata": {},
   "source": [
    "Si bien, la predicción obtenida con Prophet no es mala, la predicción obtenida por el modelo SARIMAX es mucho mejor, agregando que el modelo de *RandomForest* creado para presentar otro enfoque, también presenta mejores resultados que el modelo de Prophet. Sin embargo, de este modelo se destaca su simpleza a la hora de implementarlo y cómo a través de unas simples líneas de código se puede lograr un pequeño modelo de series de tiempo y obtener predicciones confiables.\n",
    "\n",
    "A continuación se realiza el *HyperTunning* del modelo Prophet:"
   ]
  },
  {
   "cell_type": "code",
   "execution_count": null,
   "metadata": {
    "ExecuteTime": {
     "end_time": "2021-10-05T19:10:41.278888Z",
     "start_time": "2021-10-05T19:10:41.258907Z"
    }
   },
   "outputs": [],
   "source": [
    "def gs_prophet(params, model, df, cutoffs, rolling_window, horizon):\n",
    "    '''Brute-Force GridSearch for Prophet models\n",
    "    Cutoffs must be in -datetime- format\n",
    "    Rolling-Window must be an int\n",
    "    Horizon must be denoted as: 'X Y'\n",
    "         Where X is equal to a number \n",
    "               Y is equal to frequency(days or less) - E.G = '30 days' '''\n",
    "    rmse_list = []  \n",
    "    for i in params:\n",
    "        m = model(**i).fit(df) \n",
    "        df_cv = cross_validation(m, cutoffs= cutoffs, horizon= horizon, parallel=\"processes\")\n",
    "        df_p = performance_metrics(df_cv, rolling_window=rolling_window)\n",
    "        rmse_list.append(df_p['rmse'].values[0])\n",
    "    tuning_results = pd.DataFrame(params)\n",
    "    tuning_results['rmse'] = rmse_list\n",
    "    best_params = params[np.argmin(rmse_list)]\n",
    "    return tuning_results, tuning_results.loc[tuning_results['rmse'].idxmin()], best_params"
   ]
  },
  {
   "cell_type": "code",
   "execution_count": null,
   "metadata": {
    "ExecuteTime": {
     "end_time": "2021-10-05T19:17:37.150656Z",
     "start_time": "2021-10-05T19:17:37.130677Z"
    }
   },
   "outputs": [],
   "source": [
    "param_grid = {  \n",
    "    'changepoint_prior_scale': [0.001, 0.01, 0.1, 0.5],\n",
    "    'seasonality_prior_scale': [0.01, 0.1, 1.0, 10.0]}\n",
    "\n",
    "all_params= [dict(zip(param_grid.keys(), v)) for v in itertools.product(*param_grid.values())]\n",
    "\n",
    "cutoffs = pd.to_datetime(['2017-07-17', '2018-08-19', '2019-10-06'])"
   ]
  },
  {
   "cell_type": "code",
   "execution_count": null,
   "metadata": {
    "ExecuteTime": {
     "end_time": "2021-10-05T19:20:01.625176Z",
     "start_time": "2021-10-05T19:17:48.370770Z"
    },
    "scrolled": false
   },
   "outputs": [],
   "source": [
    "gs_prophet(all_params, Prophet, df1, cutoffs, 365, '90 days')"
   ]
  },
  {
   "cell_type": "code",
   "execution_count": null,
   "metadata": {
    "ExecuteTime": {
     "end_time": "2021-10-05T19:20:23.249232Z",
     "start_time": "2021-10-05T19:20:21.628919Z"
    }
   },
   "outputs": [],
   "source": [
    "model= Prophet(interval_width=0.95, changepoint_prior_scale = 0.500000, seasonality_prior_scale = 0.010000)\n",
    "\n",
    "model.fit(df1)\n",
    "\n",
    "prophet_dates = model.make_future_dataframe(periods=52, freq='W')\n",
    "prophet_pred = model.predict(prophet_dates)\n",
    "prophet_pred[['ds', 'yhat', 'yhat_lower', 'yhat_upper']].head()"
   ]
  },
  {
   "cell_type": "code",
   "execution_count": null,
   "metadata": {
    "ExecuteTime": {
     "end_time": "2021-10-05T19:20:47.560920Z",
     "start_time": "2021-10-05T19:20:47.541969Z"
    }
   },
   "outputs": [],
   "source": [
    "prophet_pred_2019 = prophet_pred[(prophet_pred.ds >= \"2019-10-06\") & (prophet_pred.ds <= \"2019-12-29\")]\n",
    "\n",
    "prophet_pred_2019.drop(columns=[\"trend\", \"yhat_lower\", \"yhat_upper\",\n",
    "                       \"trend_lower\", \"trend_upper\", \"additive_terms\",\n",
    "                       \"additive_terms_lower\", \"additive_terms_upper\",\n",
    "                       \"yearly\", \"yearly_lower\", \"yearly_upper\", \n",
    "                       \"multiplicative_terms\", \"multiplicative_terms_lower\", \n",
    "                       \"multiplicative_terms_upper\"], inplace= True)\n",
    "\n",
    "\n",
    "prophet_pred_2019.rename(columns={'ds':'fecha', \"yhat\":'cantidad_pasos'}, inplace=True)\n",
    "\n",
    "\n",
    "prophet_pred_2019 = prophet_pred_2019.set_index('fecha')\n",
    "\n",
    "prophet_pred_2019"
   ]
  },
  {
   "cell_type": "code",
   "execution_count": null,
   "metadata": {
    "ExecuteTime": {
     "end_time": "2021-10-05T19:20:51.577140Z",
     "start_time": "2021-10-05T19:20:51.356734Z"
    },
    "scrolled": false
   },
   "outputs": [],
   "source": [
    "plt.figure(figsize=(16,9))\n",
    "\n",
    "\n",
    "plt.plot(prophet_pred_2019.index, prophet_pred_2019.cantidad_pasos, label = \"Prediccion Prophet 4to trimestre \")\n",
    "plt.plot(sarimax_pred_2019.index, sarimax_pred_2019.cantidad_pasos, label = \"Prediccion SARIMAX 4to trimestre\")\n",
    "plt.plot(ult_tri_2019.index, ult_tri_2019.cantidad_pasos, label = \"Series observada 4to trimestre 2019\")\n",
    "plt.title(\"Predicciones de: Prophet y SARIMAX vs Serie Observada 2017/2019\")\n",
    "plt.ylabel(\"Valores Observados\")\n",
    "plt.xlabel(\"Fechas\")\n",
    "plt.show()\n",
    "\n",
    "y_forecast_prophet=  prophet_pred_2019.cantidad_pasos\n",
    "y= ult_tri_2019.cantidad_pasos\n",
    "\n",
    "rmse_prophet = np.sqrt(metrics.mean_squared_error(y_forecast_prophet, y))\n",
    "print(\"RMSE- Prophet: \", rmse_prophet)\n",
    "print(\"RMSE- SARIMAX: \", rmse_sarimax)"
   ]
  },
  {
   "cell_type": "markdown",
   "metadata": {},
   "source": [
    "Luego de realizar un *HyperTunning* del modelo de Prophet y utilizar la combinación de parámetros que devolvió el RMSE más bajo, se observa una pequeña mejora en el resultado de Prophet sobre la serie de tiempo observada. Sin embargo, esta mejora no es sustancial, dado que mejoró solo un pequeño porcentaje en su resultado final.\n",
    "\n",
    "A la luz de estos nuevos resultados, se concluye que el modelo SARIMAX, creado en el proyecto anterior, es el mejor modelo alcanzado y Prophet, si bien presenta una implemtanción mucho más amigable, devuelve peores resultados a la hora de su evaluación. \n",
    "\n",
    "Para finalizar este proyecto, se pedirá a Prophet que prediga sobre el año 2020, así como lo hizo SARIMAX para luego observar cual de los dos presenta una observación mas pertinente."
   ]
  },
  {
   "cell_type": "markdown",
   "metadata": {},
   "source": [
    "- ### Predicción Prophet 2020"
   ]
  },
  {
   "cell_type": "code",
   "execution_count": null,
   "metadata": {
    "ExecuteTime": {
     "end_time": "2021-10-05T19:26:49.306819Z",
     "start_time": "2021-10-05T19:26:49.280858Z"
    }
   },
   "outputs": [],
   "source": [
    "prophet_pred_2020 = prophet_pred[(prophet_pred.ds >= \"2020-01-05\") & (prophet_pred.ds <= \"2020-12-31\")]\n",
    "\n",
    "prophet_pred_2020.drop(columns=[\"trend\", \"yhat_lower\", \"yhat_upper\",\n",
    "                       \"trend_lower\", \"trend_upper\", \"additive_terms\",\n",
    "                       \"additive_terms_lower\", \"additive_terms_upper\",\n",
    "                       \"yearly\", \"yearly_lower\", \"yearly_upper\", \n",
    "                       \"multiplicative_terms\", \"multiplicative_terms_lower\", \n",
    "                       \"multiplicative_terms_upper\"], inplace= True)\n",
    "\n",
    "\n",
    "prophet_pred_2020.rename(columns={'ds':'fecha', \"yhat\":'cantidad_pasos'}, inplace=True)\n",
    "\n",
    "\n",
    "prophet_pred_2020 = prophet_pred_2020.set_index('fecha')\n",
    "\n",
    "prophet_pred_2020"
   ]
  },
  {
   "cell_type": "markdown",
   "metadata": {},
   "source": [
    "## Comparando Predicciones año 2020"
   ]
  },
  {
   "cell_type": "code",
   "execution_count": null,
   "metadata": {
    "ExecuteTime": {
     "end_time": "2021-10-05T19:32:18.031366Z",
     "start_time": "2021-10-05T19:32:17.836855Z"
    }
   },
   "outputs": [],
   "source": [
    "plt.figure(figsize=(16,5))\n",
    "\n",
    "plt.plot(prophet_pred_2020.index, prophet_pred_2020.cantidad_pasos, label = \"Prediccion Prophet 2020\")\n",
    "plt.plot(prediccion_2020.index, prediccion_2020.values, label = \"Prediccion SARIMAX 2020\")\n",
    "plt.title(\"Predicciones Modelos año 2020\")\n",
    "plt.ylabel(\"Valores Observados\")\n",
    "plt.xlabel(\"Fechas\")\n",
    "plt.show()\n"
   ]
  },
  {
   "cell_type": "markdown",
   "metadata": {},
   "source": [
    "Se puede observar cómo, a grandes rasgos, Prophet sigue generando predicciones más conservadoras, mientras que SARIMAX presenta un desempeño con varianzas mucho más marcadas a medida que pasa el tiempo. Esto se debe a que Prophet, con el parámetro *Interval_width* en 0.95 indica que el futuro seguirá comportándose como el pasado, por lo que presenta resultados tan poco variados y una representación tan conservadora del futuro."
   ]
  },
  {
   "cell_type": "markdown",
   "metadata": {},
   "source": [
    "# Cierre del Proyecto"
   ]
  },
  {
   "cell_type": "markdown",
   "metadata": {},
   "source": [
    "En lo que respecta a este proyecto, su desarollo e implementación fue más lineal y rápida. La mayoría del trabajo había sido realizado previamente, por lo que restaba solamente agregarle el modelo deseado y contrastarlo con el anterior. \n",
    "\n",
    "La documentación que el modelo *Prophet* trae consigo es muy pertinente y extensa, en la cual se puenden encontrar muy buenos ejemplos de cómo realizar todos los pasos que fueron presentados aquí. "
   ]
  },
  {
   "cell_type": "code",
   "execution_count": null,
   "metadata": {},
   "outputs": [],
   "source": []
  }
 ],
 "metadata": {
  "kernelspec": {
   "display_name": "Python 3",
   "language": "python",
   "name": "python3"
  },
  "toc": {
   "base_numbering": 1,
   "nav_menu": {},
   "number_sections": true,
   "sideBar": true,
   "skip_h1_title": false,
   "title_cell": "Table of Contents",
   "title_sidebar": "Contents",
   "toc_cell": false,
   "toc_position": {},
   "toc_section_display": true,
   "toc_window_display": true
  }
 },
 "nbformat": 4,
 "nbformat_minor": 5
}
